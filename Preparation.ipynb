{
  "nbformat": 4,
  "nbformat_minor": 0,
  "metadata": {
    "colab": {
      "name": "Preparation.ipynb",
      "provenance": [],
      "mount_file_id": "1H8xufhj8gjaRe2Yp_TmORaFSwwNT7qL9",
      "authorship_tag": "ABX9TyPXu9Q9e4zSzMnaOmu3m6+a",
      "include_colab_link": true
    },
    "kernelspec": {
      "name": "python3",
      "display_name": "Python 3"
    }
  },
  "cells": [
    {
      "cell_type": "markdown",
      "metadata": {
        "id": "view-in-github",
        "colab_type": "text"
      },
      "source": [
        "<a href=\"https://colab.research.google.com/github/ciaoCiao100/ia_esame/blob/master/Preparation.ipynb\" target=\"_parent\"><img src=\"https://colab.research.google.com/assets/colab-badge.svg\" alt=\"Open In Colab\"/></a>"
      ]
    },
    {
      "cell_type": "code",
      "metadata": {
        "id": "6rSXRM4rXZ4T",
        "colab_type": "code",
        "colab": {
          "base_uri": "https://localhost:8080/",
          "height": 316
        },
        "outputId": "0111a442-622c-433c-e570-78922c76064b"
      },
      "source": [
        "import pandas as pd\n",
        "import functools\n",
        "import numpy as np\n",
        "import tensorflow as tf\n",
        "from sklearn import tree\n",
        "import matplotlib as plt\n",
        "import nltk\n",
        "\n",
        "import sklearn.metrics as metrics\n",
        "import sklearn\n",
        "from sklearn.metrics import accuracy_score\n",
        "from sklearn.tree import DecisionTreeClassifier\n",
        "from tensorflow import feature_column\n",
        "from tensorflow.keras import layers\n",
        "from sklearn.model_selection import train_test_split\n",
        "from sklearn.model_selection import train_test_split\n",
        "from sklearn.ensemble import RandomForestClassifier\n",
        " \n",
        "\n",
        "# operazione che fa in modo che i numeri siano più leggibili\n",
        "np.set_printoptions(precision=3, suppress=True)\n",
        "\n",
        "customer_file_path = \"/content/drive/My Drive/appointment_data.csv\"\n",
        "df = pd.read_csv(customer_file_path)\n",
        "df.head()\n",
        "\n"
      ],
      "execution_count": 8,
      "outputs": [
        {
          "output_type": "execute_result",
          "data": {
            "text/html": [
              "<div>\n",
              "<style scoped>\n",
              "    .dataframe tbody tr th:only-of-type {\n",
              "        vertical-align: middle;\n",
              "    }\n",
              "\n",
              "    .dataframe tbody tr th {\n",
              "        vertical-align: top;\n",
              "    }\n",
              "\n",
              "    .dataframe thead th {\n",
              "        text-align: right;\n",
              "    }\n",
              "</style>\n",
              "<table border=\"1\" class=\"dataframe\">\n",
              "  <thead>\n",
              "    <tr style=\"text-align: right;\">\n",
              "      <th></th>\n",
              "      <th>No-show</th>\n",
              "      <th>PatientId</th>\n",
              "      <th>AppointmentID</th>\n",
              "      <th>Gender</th>\n",
              "      <th>ScheduledDay</th>\n",
              "      <th>AppointmentDay</th>\n",
              "      <th>Age</th>\n",
              "      <th>Neighbourhood</th>\n",
              "      <th>Scholarship</th>\n",
              "      <th>Hipertension</th>\n",
              "      <th>Diabetes</th>\n",
              "      <th>Alcoholism</th>\n",
              "      <th>Handcap</th>\n",
              "      <th>SMS_received</th>\n",
              "    </tr>\n",
              "  </thead>\n",
              "  <tbody>\n",
              "    <tr>\n",
              "      <th>0</th>\n",
              "      <td>No</td>\n",
              "      <td>1.328492e+12</td>\n",
              "      <td>5687610</td>\n",
              "      <td>F</td>\n",
              "      <td>2016-05-11T16:00:16Z</td>\n",
              "      <td>2016-05-19T00:00:00Z</td>\n",
              "      <td>25</td>\n",
              "      <td>MATA DA PRAIA</td>\n",
              "      <td>0</td>\n",
              "      <td>0</td>\n",
              "      <td>0</td>\n",
              "      <td>0</td>\n",
              "      <td>0</td>\n",
              "      <td>0</td>\n",
              "    </tr>\n",
              "    <tr>\n",
              "      <th>1</th>\n",
              "      <td>No</td>\n",
              "      <td>3.881869e+14</td>\n",
              "      <td>5694484</td>\n",
              "      <td>M</td>\n",
              "      <td>2016-05-13T08:41:27Z</td>\n",
              "      <td>2016-05-17T00:00:00Z</td>\n",
              "      <td>62</td>\n",
              "      <td>FRADINHOS</td>\n",
              "      <td>0</td>\n",
              "      <td>0</td>\n",
              "      <td>0</td>\n",
              "      <td>0</td>\n",
              "      <td>0</td>\n",
              "      <td>0</td>\n",
              "    </tr>\n",
              "    <tr>\n",
              "      <th>2</th>\n",
              "      <td>Yes</td>\n",
              "      <td>9.118992e+12</td>\n",
              "      <td>5500939</td>\n",
              "      <td>F</td>\n",
              "      <td>2016-03-22T11:09:38Z</td>\n",
              "      <td>2016-05-09T00:00:00Z</td>\n",
              "      <td>65</td>\n",
              "      <td>JARDIM CAMBURI</td>\n",
              "      <td>0</td>\n",
              "      <td>0</td>\n",
              "      <td>0</td>\n",
              "      <td>0</td>\n",
              "      <td>0</td>\n",
              "      <td>0</td>\n",
              "    </tr>\n",
              "    <tr>\n",
              "      <th>3</th>\n",
              "      <td>No</td>\n",
              "      <td>1.843618e+14</td>\n",
              "      <td>5639080</td>\n",
              "      <td>M</td>\n",
              "      <td>2016-04-29T08:42:15Z</td>\n",
              "      <td>2016-04-29T00:00:00Z</td>\n",
              "      <td>41</td>\n",
              "      <td>MARIA ORTIZ</td>\n",
              "      <td>0</td>\n",
              "      <td>0</td>\n",
              "      <td>0</td>\n",
              "      <td>0</td>\n",
              "      <td>0</td>\n",
              "      <td>0</td>\n",
              "    </tr>\n",
              "    <tr>\n",
              "      <th>4</th>\n",
              "      <td>No</td>\n",
              "      <td>5.783198e+13</td>\n",
              "      <td>5671566</td>\n",
              "      <td>M</td>\n",
              "      <td>2016-05-06T18:47:52Z</td>\n",
              "      <td>2016-05-09T00:00:00Z</td>\n",
              "      <td>61</td>\n",
              "      <td>MARUÍPE</td>\n",
              "      <td>0</td>\n",
              "      <td>1</td>\n",
              "      <td>0</td>\n",
              "      <td>1</td>\n",
              "      <td>0</td>\n",
              "      <td>0</td>\n",
              "    </tr>\n",
              "  </tbody>\n",
              "</table>\n",
              "</div>"
            ],
            "text/plain": [
              "  No-show     PatientId  AppointmentID  ... Alcoholism Handcap SMS_received\n",
              "0      No  1.328492e+12        5687610  ...          0       0            0\n",
              "1      No  3.881869e+14        5694484  ...          0       0            0\n",
              "2     Yes  9.118992e+12        5500939  ...          0       0            0\n",
              "3      No  1.843618e+14        5639080  ...          0       0            0\n",
              "4      No  5.783198e+13        5671566  ...          1       0            0\n",
              "\n",
              "[5 rows x 14 columns]"
            ]
          },
          "metadata": {
            "tags": []
          },
          "execution_count": 8
        }
      ]
    },
    {
      "cell_type": "markdown",
      "metadata": {
        "id": "K165GcYoTZ1Z",
        "colab_type": "text"
      },
      "source": [
        "divido il dataset e creo due file di train e test\n"
      ]
    },
    {
      "cell_type": "code",
      "metadata": {
        "id": "vvgc9VtrTtlo",
        "colab_type": "code",
        "colab": {}
      },
      "source": [
        "train, test = train_test_split(df,test_size=0.2)\n",
        "train= train.to_csv('train.csv', index = False)\n",
        "test = test.to_csv('test.csv',index = False)"
      ],
      "execution_count": 9,
      "outputs": []
    }
  ]
}