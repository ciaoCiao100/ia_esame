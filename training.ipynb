{
  "nbformat": 4,
  "nbformat_minor": 0,
  "metadata": {
    "colab": {
      "name": "training.ipynb",
      "provenance": [],
      "mount_file_id": "1jM3ZKv3uvsV7y-4Z4BvzRJosON4iX1gh",
      "authorship_tag": "ABX9TyOGEXKSVULHYtggPLBqjfqn",
      "include_colab_link": true
    },
    "kernelspec": {
      "name": "python3",
      "display_name": "Python 3"
    }
  },
  "cells": [
    {
      "cell_type": "markdown",
      "metadata": {
        "id": "view-in-github",
        "colab_type": "text"
      },
      "source": [
        "<a href=\"https://colab.research.google.com/github/ciaoCiao100/ia_esame/blob/master/training.ipynb\" target=\"_parent\"><img src=\"https://colab.research.google.com/assets/colab-badge.svg\" alt=\"Open In Colab\"/></a>"
      ]
    },
    {
      "cell_type": "code",
      "metadata": {
        "id": "i9XJ_fce1u8Z",
        "colab_type": "code",
        "colab": {}
      },
      "source": [
        "!pip install -r requirements.txt"
      ],
      "execution_count": null,
      "outputs": []
    },
    {
      "cell_type": "code",
      "metadata": {
        "id": "VGIXmuiJZaZH",
        "colab_type": "code",
        "colab": {}
      },
      "source": [
        "import tensorflow as tf\n",
        "import pandas as pd\n",
        "import numpy as np\n",
        "import matplotlib.pyplot as plt\n",
        "import sklearn as sl\n",
        "import seaborn as sns\n",
        "\n",
        "from tensorflow import keras\n",
        "from sklearn.metrics import accuracy_score, classification_report\n",
        "from sklearn.preprocessing import LabelEncoder, OneHotEncoder, StandardScaler\n",
        "from sklearn.pipeline import Pipeline\n",
        "from sklearn.impute import SimpleImputer\n",
        "from sklearn.compose import ColumnTransformer\n",
        "from sklearn.ensemble import RandomForestClassifier\n",
        "from sklearn.tree import DecisionTreeRegressor, DecisionTreeClassifier\n",
        "import sklearn.metrics as metrics\n",
        "\n",
        "# fa i modo che i numeri siano più leggibili.\n",
        "np.set_printoptions(precision=3, suppress=True)\n",
        "\n",
        "train_file_path =  \"./train.csv\"\n",
        "test_file_path = \"./test.csv\"\n",
        "\n",
        "train_df = pd.read_csv(train_file_path)\n",
        "#train_df.dtypes\n",
        "test_df = pd.read_csv(test_file_path)\n",
        "#test_df.dtypes\n"
      ],
      "execution_count": 35,
      "outputs": []
    },
    {
      "cell_type": "markdown",
      "metadata": {
        "id": "kXVQCwYAXMgJ",
        "colab_type": "text"
      },
      "source": [
        "eiminazione di valori Nan per il train"
      ]
    },
    {
      "cell_type": "code",
      "metadata": {
        "id": "CgfcVbXxXWuF",
        "colab_type": "code",
        "colab": {
          "base_uri": "https://localhost:8080/",
          "height": 316
        },
        "outputId": "0fb29bd0-08fa-457b-a1c0-bed498dcbc93"
      },
      "source": [
        "# Sostituisco ad ogni stringa vuota il valore 'NaN'\n",
        "train_df.replace(\"\", np.nan, inplace=True)\n",
        "train_df.replace(\" \", np.nan, inplace=True)\n",
        "train_df.replace(\"?\", np.nan, inplace=True)\n",
        "train_df.head()"
      ],
      "execution_count": 36,
      "outputs": [
        {
          "output_type": "execute_result",
          "data": {
            "text/html": [
              "<div>\n",
              "<style scoped>\n",
              "    .dataframe tbody tr th:only-of-type {\n",
              "        vertical-align: middle;\n",
              "    }\n",
              "\n",
              "    .dataframe tbody tr th {\n",
              "        vertical-align: top;\n",
              "    }\n",
              "\n",
              "    .dataframe thead th {\n",
              "        text-align: right;\n",
              "    }\n",
              "</style>\n",
              "<table border=\"1\" class=\"dataframe\">\n",
              "  <thead>\n",
              "    <tr style=\"text-align: right;\">\n",
              "      <th></th>\n",
              "      <th>No-show</th>\n",
              "      <th>PatientId</th>\n",
              "      <th>AppointmentID</th>\n",
              "      <th>Gender</th>\n",
              "      <th>ScheduledDay</th>\n",
              "      <th>AppointmentDay</th>\n",
              "      <th>Age</th>\n",
              "      <th>Neighbourhood</th>\n",
              "      <th>Scholarship</th>\n",
              "      <th>Hipertension</th>\n",
              "      <th>Diabetes</th>\n",
              "      <th>Alcoholism</th>\n",
              "      <th>Handcap</th>\n",
              "      <th>SMS_received</th>\n",
              "    </tr>\n",
              "  </thead>\n",
              "  <tbody>\n",
              "    <tr>\n",
              "      <th>0</th>\n",
              "      <td>No</td>\n",
              "      <td>2.719167e+13</td>\n",
              "      <td>5730078</td>\n",
              "      <td>F</td>\n",
              "      <td>2016-05-24T08:07:44Z</td>\n",
              "      <td>2016-05-24T00:00:00Z</td>\n",
              "      <td>36</td>\n",
              "      <td>BELA VISTA</td>\n",
              "      <td>0</td>\n",
              "      <td>0</td>\n",
              "      <td>0</td>\n",
              "      <td>0</td>\n",
              "      <td>0</td>\n",
              "      <td>0</td>\n",
              "    </tr>\n",
              "    <tr>\n",
              "      <th>1</th>\n",
              "      <td>No</td>\n",
              "      <td>7.479664e+10</td>\n",
              "      <td>5685344</td>\n",
              "      <td>F</td>\n",
              "      <td>2016-05-11T10:11:49Z</td>\n",
              "      <td>2016-05-13T00:00:00Z</td>\n",
              "      <td>35</td>\n",
              "      <td>ITARARÉ</td>\n",
              "      <td>0</td>\n",
              "      <td>0</td>\n",
              "      <td>0</td>\n",
              "      <td>0</td>\n",
              "      <td>0</td>\n",
              "      <td>0</td>\n",
              "    </tr>\n",
              "    <tr>\n",
              "      <th>2</th>\n",
              "      <td>No</td>\n",
              "      <td>4.678419e+13</td>\n",
              "      <td>5738382</td>\n",
              "      <td>M</td>\n",
              "      <td>2016-05-25T10:51:57Z</td>\n",
              "      <td>2016-05-25T00:00:00Z</td>\n",
              "      <td>15</td>\n",
              "      <td>MARUÍPE</td>\n",
              "      <td>0</td>\n",
              "      <td>0</td>\n",
              "      <td>0</td>\n",
              "      <td>0</td>\n",
              "      <td>0</td>\n",
              "      <td>0</td>\n",
              "    </tr>\n",
              "    <tr>\n",
              "      <th>3</th>\n",
              "      <td>Yes</td>\n",
              "      <td>3.167173e+13</td>\n",
              "      <td>5667906</td>\n",
              "      <td>F</td>\n",
              "      <td>2016-05-06T08:15:22Z</td>\n",
              "      <td>2016-05-19T00:00:00Z</td>\n",
              "      <td>12</td>\n",
              "      <td>TABUAZEIRO</td>\n",
              "      <td>0</td>\n",
              "      <td>0</td>\n",
              "      <td>0</td>\n",
              "      <td>0</td>\n",
              "      <td>0</td>\n",
              "      <td>0</td>\n",
              "    </tr>\n",
              "    <tr>\n",
              "      <th>4</th>\n",
              "      <td>No</td>\n",
              "      <td>8.799566e+14</td>\n",
              "      <td>5751108</td>\n",
              "      <td>F</td>\n",
              "      <td>2016-05-31T09:41:47Z</td>\n",
              "      <td>2016-05-31T00:00:00Z</td>\n",
              "      <td>27</td>\n",
              "      <td>PRAIA DO SUÁ</td>\n",
              "      <td>0</td>\n",
              "      <td>0</td>\n",
              "      <td>0</td>\n",
              "      <td>0</td>\n",
              "      <td>0</td>\n",
              "      <td>0</td>\n",
              "    </tr>\n",
              "  </tbody>\n",
              "</table>\n",
              "</div>"
            ],
            "text/plain": [
              "  No-show     PatientId  AppointmentID  ... Alcoholism Handcap SMS_received\n",
              "0      No  2.719167e+13        5730078  ...          0       0            0\n",
              "1      No  7.479664e+10        5685344  ...          0       0            0\n",
              "2      No  4.678419e+13        5738382  ...          0       0            0\n",
              "3     Yes  3.167173e+13        5667906  ...          0       0            0\n",
              "4      No  8.799566e+14        5751108  ...          0       0            0\n",
              "\n",
              "[5 rows x 14 columns]"
            ]
          },
          "metadata": {
            "tags": []
          },
          "execution_count": 36
        }
      ]
    },
    {
      "cell_type": "markdown",
      "metadata": {
        "id": "t92sHdZo-s7S",
        "colab_type": "text"
      },
      "source": [
        "controllo se ci sono effettivamente valori Nan nel dataset train "
      ]
    },
    {
      "cell_type": "code",
      "metadata": {
        "id": "zNCv1wq2-zWX",
        "colab_type": "code",
        "colab": {
          "base_uri": "https://localhost:8080/",
          "height": 269
        },
        "outputId": "b452caa2-78c0-403f-f154-45d14b735845"
      },
      "source": [
        "train_df.isna().sum()\n"
      ],
      "execution_count": 37,
      "outputs": [
        {
          "output_type": "execute_result",
          "data": {
            "text/plain": [
              "No-show           0\n",
              "PatientId         0\n",
              "AppointmentID     0\n",
              "Gender            0\n",
              "ScheduledDay      0\n",
              "AppointmentDay    0\n",
              "Age               0\n",
              "Neighbourhood     0\n",
              "Scholarship       0\n",
              "Hipertension      0\n",
              "Diabetes          0\n",
              "Alcoholism        0\n",
              "Handcap           0\n",
              "SMS_received      0\n",
              "dtype: int64"
            ]
          },
          "metadata": {
            "tags": []
          },
          "execution_count": 37
        }
      ]
    },
    {
      "cell_type": "markdown",
      "metadata": {
        "id": "pZkq9gEHXfmH",
        "colab_type": "text"
      },
      "source": [
        "eliminazione di valori Nan per il test"
      ]
    },
    {
      "cell_type": "code",
      "metadata": {
        "id": "HLolSqIsXerq",
        "colab_type": "code",
        "colab": {
          "base_uri": "https://localhost:8080/",
          "height": 316
        },
        "outputId": "1b04f7c8-1cab-40ea-f7ad-96b52753106e"
      },
      "source": [
        "# Sostituisco ad ogni stringa vuota il valore 'NaN'\n",
        "test_df.replace(\"\", np.nan, inplace=True)\n",
        "test_df.replace(\" \", np.nan, inplace=True)\n",
        "test_df.replace(\"?\", np.nan, inplace=True)\n",
        "test_df.head()"
      ],
      "execution_count": 38,
      "outputs": [
        {
          "output_type": "execute_result",
          "data": {
            "text/html": [
              "<div>\n",
              "<style scoped>\n",
              "    .dataframe tbody tr th:only-of-type {\n",
              "        vertical-align: middle;\n",
              "    }\n",
              "\n",
              "    .dataframe tbody tr th {\n",
              "        vertical-align: top;\n",
              "    }\n",
              "\n",
              "    .dataframe thead th {\n",
              "        text-align: right;\n",
              "    }\n",
              "</style>\n",
              "<table border=\"1\" class=\"dataframe\">\n",
              "  <thead>\n",
              "    <tr style=\"text-align: right;\">\n",
              "      <th></th>\n",
              "      <th>No-show</th>\n",
              "      <th>PatientId</th>\n",
              "      <th>AppointmentID</th>\n",
              "      <th>Gender</th>\n",
              "      <th>ScheduledDay</th>\n",
              "      <th>AppointmentDay</th>\n",
              "      <th>Age</th>\n",
              "      <th>Neighbourhood</th>\n",
              "      <th>Scholarship</th>\n",
              "      <th>Hipertension</th>\n",
              "      <th>Diabetes</th>\n",
              "      <th>Alcoholism</th>\n",
              "      <th>Handcap</th>\n",
              "      <th>SMS_received</th>\n",
              "    </tr>\n",
              "  </thead>\n",
              "  <tbody>\n",
              "    <tr>\n",
              "      <th>0</th>\n",
              "      <td>No</td>\n",
              "      <td>4.759386e+12</td>\n",
              "      <td>5658195</td>\n",
              "      <td>M</td>\n",
              "      <td>2016-05-04T10:41:02Z</td>\n",
              "      <td>2016-05-04T00:00:00Z</td>\n",
              "      <td>9</td>\n",
              "      <td>TABUAZEIRO</td>\n",
              "      <td>0</td>\n",
              "      <td>0</td>\n",
              "      <td>0</td>\n",
              "      <td>0</td>\n",
              "      <td>0</td>\n",
              "      <td>0</td>\n",
              "    </tr>\n",
              "    <tr>\n",
              "      <th>1</th>\n",
              "      <td>Yes</td>\n",
              "      <td>7.287316e+13</td>\n",
              "      <td>5631991</td>\n",
              "      <td>F</td>\n",
              "      <td>2016-04-28T07:34:33Z</td>\n",
              "      <td>2016-05-02T00:00:00Z</td>\n",
              "      <td>49</td>\n",
              "      <td>ANDORINHAS</td>\n",
              "      <td>0</td>\n",
              "      <td>1</td>\n",
              "      <td>1</td>\n",
              "      <td>0</td>\n",
              "      <td>0</td>\n",
              "      <td>0</td>\n",
              "    </tr>\n",
              "    <tr>\n",
              "      <th>2</th>\n",
              "      <td>No</td>\n",
              "      <td>3.692358e+13</td>\n",
              "      <td>5672349</td>\n",
              "      <td>M</td>\n",
              "      <td>2016-05-09T07:56:53Z</td>\n",
              "      <td>2016-05-09T00:00:00Z</td>\n",
              "      <td>50</td>\n",
              "      <td>RESISTÊNCIA</td>\n",
              "      <td>0</td>\n",
              "      <td>0</td>\n",
              "      <td>0</td>\n",
              "      <td>0</td>\n",
              "      <td>0</td>\n",
              "      <td>0</td>\n",
              "    </tr>\n",
              "    <tr>\n",
              "      <th>3</th>\n",
              "      <td>No</td>\n",
              "      <td>5.363398e+14</td>\n",
              "      <td>5637581</td>\n",
              "      <td>M</td>\n",
              "      <td>2016-04-29T07:09:32Z</td>\n",
              "      <td>2016-05-03T00:00:00Z</td>\n",
              "      <td>8</td>\n",
              "      <td>SÃO PEDRO</td>\n",
              "      <td>0</td>\n",
              "      <td>0</td>\n",
              "      <td>0</td>\n",
              "      <td>0</td>\n",
              "      <td>0</td>\n",
              "      <td>1</td>\n",
              "    </tr>\n",
              "    <tr>\n",
              "      <th>4</th>\n",
              "      <td>Yes</td>\n",
              "      <td>6.673226e+11</td>\n",
              "      <td>5628498</td>\n",
              "      <td>F</td>\n",
              "      <td>2016-04-27T11:06:02Z</td>\n",
              "      <td>2016-05-11T00:00:00Z</td>\n",
              "      <td>14</td>\n",
              "      <td>CARATOÍRA</td>\n",
              "      <td>0</td>\n",
              "      <td>0</td>\n",
              "      <td>0</td>\n",
              "      <td>0</td>\n",
              "      <td>0</td>\n",
              "      <td>0</td>\n",
              "    </tr>\n",
              "  </tbody>\n",
              "</table>\n",
              "</div>"
            ],
            "text/plain": [
              "  No-show     PatientId  AppointmentID  ... Alcoholism Handcap SMS_received\n",
              "0      No  4.759386e+12        5658195  ...          0       0            0\n",
              "1     Yes  7.287316e+13        5631991  ...          0       0            0\n",
              "2      No  3.692358e+13        5672349  ...          0       0            0\n",
              "3      No  5.363398e+14        5637581  ...          0       0            1\n",
              "4     Yes  6.673226e+11        5628498  ...          0       0            0\n",
              "\n",
              "[5 rows x 14 columns]"
            ]
          },
          "metadata": {
            "tags": []
          },
          "execution_count": 38
        }
      ]
    },
    {
      "cell_type": "markdown",
      "metadata": {
        "id": "-cZt2hoU_6Ic",
        "colab_type": "text"
      },
      "source": [
        "controllo se ci sono effettivamente valori Nan nel dataset test"
      ]
    },
    {
      "cell_type": "code",
      "metadata": {
        "id": "xbOm5aSx_82U",
        "colab_type": "code",
        "colab": {
          "base_uri": "https://localhost:8080/",
          "height": 269
        },
        "outputId": "4663c4ba-e562-429d-e962-552e5bd84d6f"
      },
      "source": [
        "test_df.isna().sum()"
      ],
      "execution_count": 39,
      "outputs": [
        {
          "output_type": "execute_result",
          "data": {
            "text/plain": [
              "No-show           0\n",
              "PatientId         0\n",
              "AppointmentID     0\n",
              "Gender            0\n",
              "ScheduledDay      0\n",
              "AppointmentDay    0\n",
              "Age               0\n",
              "Neighbourhood     0\n",
              "Scholarship       0\n",
              "Hipertension      0\n",
              "Diabetes          0\n",
              "Alcoholism        0\n",
              "Handcap           0\n",
              "SMS_received      0\n",
              "dtype: int64"
            ]
          },
          "metadata": {
            "tags": []
          },
          "execution_count": 39
        }
      ]
    },
    {
      "cell_type": "code",
      "metadata": {
        "id": "ULWImyXRQxAs",
        "colab_type": "code",
        "colab": {}
      },
      "source": [
        "# Procediamo con l'eliminazione dei dati non validi (NaN)\n",
        "test_df.dropna(inplace=True)\n",
        "train_df.dropna(inplace=True)"
      ],
      "execution_count": 40,
      "outputs": []
    },
    {
      "cell_type": "markdown",
      "metadata": {
        "id": "rldHNG61X4sz",
        "colab_type": "text"
      },
      "source": [
        "conversione stringhe a float train.csv"
      ]
    },
    {
      "cell_type": "code",
      "metadata": {
        "id": "THDJA7gxX5L7",
        "colab_type": "code",
        "colab": {
          "base_uri": "https://localhost:8080/",
          "height": 232
        },
        "outputId": "6a39cc43-2998-4e33-e7a7-ef4c0b4031a1"
      },
      "source": [
        "#tutte le colonne che contengono stringhe devono essere trasformate in colonne che contengono interi \n",
        "for elemento in train_df:\n",
        "  if elemento==\"AppointmentID\" or elemento==\"Age\" or elemento==\"Scholarship\" or elemento == \"Hipertension\t\" or elemento == \"Diabetes\" or elemento == \"Alcoholism\" or elemento == \"Handcap\" or elemento == \"SMS_received\":\n",
        "   train_df[elemento] = train_df[elemento].astype('float')\n",
        "  else:\n",
        "   train_df[elemento] = (pd.Categorical(train_df[elemento])).codes.astype('float')\n",
        "\n",
        "# mostro il dataset dopo l'operazione\n",
        "train_df.head()"
      ],
      "execution_count": 41,
      "outputs": [
        {
          "output_type": "execute_result",
          "data": {
            "text/html": [
              "<div>\n",
              "<style scoped>\n",
              "    .dataframe tbody tr th:only-of-type {\n",
              "        vertical-align: middle;\n",
              "    }\n",
              "\n",
              "    .dataframe tbody tr th {\n",
              "        vertical-align: top;\n",
              "    }\n",
              "\n",
              "    .dataframe thead th {\n",
              "        text-align: right;\n",
              "    }\n",
              "</style>\n",
              "<table border=\"1\" class=\"dataframe\">\n",
              "  <thead>\n",
              "    <tr style=\"text-align: right;\">\n",
              "      <th></th>\n",
              "      <th>No-show</th>\n",
              "      <th>PatientId</th>\n",
              "      <th>AppointmentID</th>\n",
              "      <th>Gender</th>\n",
              "      <th>ScheduledDay</th>\n",
              "      <th>AppointmentDay</th>\n",
              "      <th>Age</th>\n",
              "      <th>Neighbourhood</th>\n",
              "      <th>Scholarship</th>\n",
              "      <th>Hipertension</th>\n",
              "      <th>Diabetes</th>\n",
              "      <th>Alcoholism</th>\n",
              "      <th>Handcap</th>\n",
              "      <th>SMS_received</th>\n",
              "    </tr>\n",
              "  </thead>\n",
              "  <tbody>\n",
              "    <tr>\n",
              "      <th>0</th>\n",
              "      <td>0.0</td>\n",
              "      <td>22455.0</td>\n",
              "      <td>5730078.0</td>\n",
              "      <td>0.0</td>\n",
              "      <td>51818.0</td>\n",
              "      <td>17.0</td>\n",
              "      <td>36.0</td>\n",
              "      <td>5.0</td>\n",
              "      <td>0.0</td>\n",
              "      <td>0.0</td>\n",
              "      <td>0.0</td>\n",
              "      <td>0.0</td>\n",
              "      <td>0.0</td>\n",
              "      <td>0.0</td>\n",
              "    </tr>\n",
              "    <tr>\n",
              "      <th>1</th>\n",
              "      <td>0.0</td>\n",
              "      <td>1639.0</td>\n",
              "      <td>5685344.0</td>\n",
              "      <td>0.0</td>\n",
              "      <td>35730.0</td>\n",
              "      <td>10.0</td>\n",
              "      <td>35.0</td>\n",
              "      <td>36.0</td>\n",
              "      <td>0.0</td>\n",
              "      <td>0.0</td>\n",
              "      <td>0.0</td>\n",
              "      <td>0.0</td>\n",
              "      <td>0.0</td>\n",
              "      <td>0.0</td>\n",
              "    </tr>\n",
              "    <tr>\n",
              "      <th>2</th>\n",
              "      <td>0.0</td>\n",
              "      <td>26073.0</td>\n",
              "      <td>5738382.0</td>\n",
              "      <td>1.0</td>\n",
              "      <td>54412.0</td>\n",
              "      <td>18.0</td>\n",
              "      <td>15.0</td>\n",
              "      <td>44.0</td>\n",
              "      <td>0.0</td>\n",
              "      <td>0.0</td>\n",
              "      <td>0.0</td>\n",
              "      <td>0.0</td>\n",
              "      <td>0.0</td>\n",
              "      <td>0.0</td>\n",
              "    </tr>\n",
              "    <tr>\n",
              "      <th>3</th>\n",
              "      <td>1.0</td>\n",
              "      <td>23157.0</td>\n",
              "      <td>5667906.0</td>\n",
              "      <td>0.0</td>\n",
              "      <td>28292.0</td>\n",
              "      <td>15.0</td>\n",
              "      <td>12.0</td>\n",
              "      <td>78.0</td>\n",
              "      <td>0.0</td>\n",
              "      <td>0.0</td>\n",
              "      <td>0.0</td>\n",
              "      <td>0.0</td>\n",
              "      <td>0.0</td>\n",
              "      <td>0.0</td>\n",
              "    </tr>\n",
              "    <tr>\n",
              "      <th>4</th>\n",
              "      <td>0.0</td>\n",
              "      <td>45044.0</td>\n",
              "      <td>5751108.0</td>\n",
              "      <td>0.0</td>\n",
              "      <td>58254.0</td>\n",
              "      <td>20.0</td>\n",
              "      <td>27.0</td>\n",
              "      <td>56.0</td>\n",
              "      <td>0.0</td>\n",
              "      <td>0.0</td>\n",
              "      <td>0.0</td>\n",
              "      <td>0.0</td>\n",
              "      <td>0.0</td>\n",
              "      <td>0.0</td>\n",
              "    </tr>\n",
              "  </tbody>\n",
              "</table>\n",
              "</div>"
            ],
            "text/plain": [
              "   No-show  PatientId  AppointmentID  ...  Alcoholism  Handcap  SMS_received\n",
              "0      0.0    22455.0      5730078.0  ...         0.0      0.0           0.0\n",
              "1      0.0     1639.0      5685344.0  ...         0.0      0.0           0.0\n",
              "2      0.0    26073.0      5738382.0  ...         0.0      0.0           0.0\n",
              "3      1.0    23157.0      5667906.0  ...         0.0      0.0           0.0\n",
              "4      0.0    45044.0      5751108.0  ...         0.0      0.0           0.0\n",
              "\n",
              "[5 rows x 14 columns]"
            ]
          },
          "metadata": {
            "tags": []
          },
          "execution_count": 41
        }
      ]
    },
    {
      "cell_type": "markdown",
      "metadata": {
        "id": "c17FC_SqX38d",
        "colab_type": "text"
      },
      "source": [
        "conversione da stringhe a float test.csv"
      ]
    },
    {
      "cell_type": "code",
      "metadata": {
        "id": "c6oDjDJfX3BP",
        "colab_type": "code",
        "colab": {
          "base_uri": "https://localhost:8080/",
          "height": 232
        },
        "outputId": "223c1a91-44a6-46e6-959c-70414fe73c12"
      },
      "source": [
        "#tutte le colonne che contengono stringhe devono essere trasformate in colonne che contengono interi \n",
        "for elemento in test_df:\n",
        "   if elemento==\"AppointmentID\" or elemento==\"Age\" or elemento==\"Scholarship\" or elemento == \"Hipertension\t\" or elemento == \"Diabetes\" or elemento == \"Alcoholism\" or elemento == \"Handcap\" or elemento == \"SMS_received\":\n",
        "     test_df[elemento] = test_df[elemento].astype('float')\n",
        "   else:\n",
        "     test_df[elemento] = (pd.Categorical(test_df[elemento])).codes.astype('float')\n",
        "\n",
        "# mostro il dataset dopo l'operazione\n",
        "test_df.head()"
      ],
      "execution_count": 42,
      "outputs": [
        {
          "output_type": "execute_result",
          "data": {
            "text/html": [
              "<div>\n",
              "<style scoped>\n",
              "    .dataframe tbody tr th:only-of-type {\n",
              "        vertical-align: middle;\n",
              "    }\n",
              "\n",
              "    .dataframe tbody tr th {\n",
              "        vertical-align: top;\n",
              "    }\n",
              "\n",
              "    .dataframe thead th {\n",
              "        text-align: right;\n",
              "    }\n",
              "</style>\n",
              "<table border=\"1\" class=\"dataframe\">\n",
              "  <thead>\n",
              "    <tr style=\"text-align: right;\">\n",
              "      <th></th>\n",
              "      <th>No-show</th>\n",
              "      <th>PatientId</th>\n",
              "      <th>AppointmentID</th>\n",
              "      <th>Gender</th>\n",
              "      <th>ScheduledDay</th>\n",
              "      <th>AppointmentDay</th>\n",
              "      <th>Age</th>\n",
              "      <th>Neighbourhood</th>\n",
              "      <th>Scholarship</th>\n",
              "      <th>Hipertension</th>\n",
              "      <th>Diabetes</th>\n",
              "      <th>Alcoholism</th>\n",
              "      <th>Handcap</th>\n",
              "      <th>SMS_received</th>\n",
              "    </tr>\n",
              "  </thead>\n",
              "  <tbody>\n",
              "    <tr>\n",
              "      <th>0</th>\n",
              "      <td>0.0</td>\n",
              "      <td>4077.0</td>\n",
              "      <td>5658195.0</td>\n",
              "      <td>1.0</td>\n",
              "      <td>6311.0</td>\n",
              "      <td>3.0</td>\n",
              "      <td>9.0</td>\n",
              "      <td>76.0</td>\n",
              "      <td>0.0</td>\n",
              "      <td>0.0</td>\n",
              "      <td>0.0</td>\n",
              "      <td>0.0</td>\n",
              "      <td>0.0</td>\n",
              "      <td>0.0</td>\n",
              "    </tr>\n",
              "    <tr>\n",
              "      <th>1</th>\n",
              "      <td>1.0</td>\n",
              "      <td>10123.0</td>\n",
              "      <td>5631991.0</td>\n",
              "      <td>0.0</td>\n",
              "      <td>3739.0</td>\n",
              "      <td>1.0</td>\n",
              "      <td>49.0</td>\n",
              "      <td>1.0</td>\n",
              "      <td>0.0</td>\n",
              "      <td>1.0</td>\n",
              "      <td>1.0</td>\n",
              "      <td>0.0</td>\n",
              "      <td>0.0</td>\n",
              "      <td>0.0</td>\n",
              "    </tr>\n",
              "    <tr>\n",
              "      <th>2</th>\n",
              "      <td>0.0</td>\n",
              "      <td>7994.0</td>\n",
              "      <td>5672349.0</td>\n",
              "      <td>1.0</td>\n",
              "      <td>7861.0</td>\n",
              "      <td>6.0</td>\n",
              "      <td>50.0</td>\n",
              "      <td>57.0</td>\n",
              "      <td>0.0</td>\n",
              "      <td>0.0</td>\n",
              "      <td>0.0</td>\n",
              "      <td>0.0</td>\n",
              "      <td>0.0</td>\n",
              "      <td>0.0</td>\n",
              "    </tr>\n",
              "    <tr>\n",
              "      <th>3</th>\n",
              "      <td>0.0</td>\n",
              "      <td>13498.0</td>\n",
              "      <td>5637581.0</td>\n",
              "      <td>1.0</td>\n",
              "      <td>4146.0</td>\n",
              "      <td>2.0</td>\n",
              "      <td>8.0</td>\n",
              "      <td>75.0</td>\n",
              "      <td>0.0</td>\n",
              "      <td>0.0</td>\n",
              "      <td>0.0</td>\n",
              "      <td>0.0</td>\n",
              "      <td>0.0</td>\n",
              "      <td>1.0</td>\n",
              "    </tr>\n",
              "    <tr>\n",
              "      <th>4</th>\n",
              "      <td>1.0</td>\n",
              "      <td>1792.0</td>\n",
              "      <td>5628498.0</td>\n",
              "      <td>0.0</td>\n",
              "      <td>3510.0</td>\n",
              "      <td>8.0</td>\n",
              "      <td>14.0</td>\n",
              "      <td>9.0</td>\n",
              "      <td>0.0</td>\n",
              "      <td>0.0</td>\n",
              "      <td>0.0</td>\n",
              "      <td>0.0</td>\n",
              "      <td>0.0</td>\n",
              "      <td>0.0</td>\n",
              "    </tr>\n",
              "  </tbody>\n",
              "</table>\n",
              "</div>"
            ],
            "text/plain": [
              "   No-show  PatientId  AppointmentID  ...  Alcoholism  Handcap  SMS_received\n",
              "0      0.0     4077.0      5658195.0  ...         0.0      0.0           0.0\n",
              "1      1.0    10123.0      5631991.0  ...         0.0      0.0           0.0\n",
              "2      0.0     7994.0      5672349.0  ...         0.0      0.0           0.0\n",
              "3      0.0    13498.0      5637581.0  ...         0.0      0.0           1.0\n",
              "4      1.0     1792.0      5628498.0  ...         0.0      0.0           0.0\n",
              "\n",
              "[5 rows x 14 columns]"
            ]
          },
          "metadata": {
            "tags": []
          },
          "execution_count": 42
        }
      ]
    },
    {
      "cell_type": "markdown",
      "metadata": {
        "id": "jAoN3MqSYOQI",
        "colab_type": "text"
      },
      "source": [
        "eliminazione colonne inutili train.csv"
      ]
    },
    {
      "cell_type": "code",
      "metadata": {
        "id": "XJ4g8jrsYRqS",
        "colab_type": "code",
        "colab": {
          "base_uri": "https://localhost:8080/",
          "height": 232
        },
        "outputId": "a6ccf41e-2657-46a0-a13c-bc2250b112d9"
      },
      "source": [
        "train_df = train_df.drop(['PatientId','ScheduledDay'], axis=1)\n",
        "train_df.head()"
      ],
      "execution_count": 43,
      "outputs": [
        {
          "output_type": "execute_result",
          "data": {
            "text/html": [
              "<div>\n",
              "<style scoped>\n",
              "    .dataframe tbody tr th:only-of-type {\n",
              "        vertical-align: middle;\n",
              "    }\n",
              "\n",
              "    .dataframe tbody tr th {\n",
              "        vertical-align: top;\n",
              "    }\n",
              "\n",
              "    .dataframe thead th {\n",
              "        text-align: right;\n",
              "    }\n",
              "</style>\n",
              "<table border=\"1\" class=\"dataframe\">\n",
              "  <thead>\n",
              "    <tr style=\"text-align: right;\">\n",
              "      <th></th>\n",
              "      <th>No-show</th>\n",
              "      <th>AppointmentID</th>\n",
              "      <th>Gender</th>\n",
              "      <th>AppointmentDay</th>\n",
              "      <th>Age</th>\n",
              "      <th>Neighbourhood</th>\n",
              "      <th>Scholarship</th>\n",
              "      <th>Hipertension</th>\n",
              "      <th>Diabetes</th>\n",
              "      <th>Alcoholism</th>\n",
              "      <th>Handcap</th>\n",
              "      <th>SMS_received</th>\n",
              "    </tr>\n",
              "  </thead>\n",
              "  <tbody>\n",
              "    <tr>\n",
              "      <th>0</th>\n",
              "      <td>0.0</td>\n",
              "      <td>5730078.0</td>\n",
              "      <td>0.0</td>\n",
              "      <td>17.0</td>\n",
              "      <td>36.0</td>\n",
              "      <td>5.0</td>\n",
              "      <td>0.0</td>\n",
              "      <td>0.0</td>\n",
              "      <td>0.0</td>\n",
              "      <td>0.0</td>\n",
              "      <td>0.0</td>\n",
              "      <td>0.0</td>\n",
              "    </tr>\n",
              "    <tr>\n",
              "      <th>1</th>\n",
              "      <td>0.0</td>\n",
              "      <td>5685344.0</td>\n",
              "      <td>0.0</td>\n",
              "      <td>10.0</td>\n",
              "      <td>35.0</td>\n",
              "      <td>36.0</td>\n",
              "      <td>0.0</td>\n",
              "      <td>0.0</td>\n",
              "      <td>0.0</td>\n",
              "      <td>0.0</td>\n",
              "      <td>0.0</td>\n",
              "      <td>0.0</td>\n",
              "    </tr>\n",
              "    <tr>\n",
              "      <th>2</th>\n",
              "      <td>0.0</td>\n",
              "      <td>5738382.0</td>\n",
              "      <td>1.0</td>\n",
              "      <td>18.0</td>\n",
              "      <td>15.0</td>\n",
              "      <td>44.0</td>\n",
              "      <td>0.0</td>\n",
              "      <td>0.0</td>\n",
              "      <td>0.0</td>\n",
              "      <td>0.0</td>\n",
              "      <td>0.0</td>\n",
              "      <td>0.0</td>\n",
              "    </tr>\n",
              "    <tr>\n",
              "      <th>3</th>\n",
              "      <td>1.0</td>\n",
              "      <td>5667906.0</td>\n",
              "      <td>0.0</td>\n",
              "      <td>15.0</td>\n",
              "      <td>12.0</td>\n",
              "      <td>78.0</td>\n",
              "      <td>0.0</td>\n",
              "      <td>0.0</td>\n",
              "      <td>0.0</td>\n",
              "      <td>0.0</td>\n",
              "      <td>0.0</td>\n",
              "      <td>0.0</td>\n",
              "    </tr>\n",
              "    <tr>\n",
              "      <th>4</th>\n",
              "      <td>0.0</td>\n",
              "      <td>5751108.0</td>\n",
              "      <td>0.0</td>\n",
              "      <td>20.0</td>\n",
              "      <td>27.0</td>\n",
              "      <td>56.0</td>\n",
              "      <td>0.0</td>\n",
              "      <td>0.0</td>\n",
              "      <td>0.0</td>\n",
              "      <td>0.0</td>\n",
              "      <td>0.0</td>\n",
              "      <td>0.0</td>\n",
              "    </tr>\n",
              "  </tbody>\n",
              "</table>\n",
              "</div>"
            ],
            "text/plain": [
              "   No-show  AppointmentID  Gender  ...  Alcoholism  Handcap  SMS_received\n",
              "0      0.0      5730078.0     0.0  ...         0.0      0.0           0.0\n",
              "1      0.0      5685344.0     0.0  ...         0.0      0.0           0.0\n",
              "2      0.0      5738382.0     1.0  ...         0.0      0.0           0.0\n",
              "3      1.0      5667906.0     0.0  ...         0.0      0.0           0.0\n",
              "4      0.0      5751108.0     0.0  ...         0.0      0.0           0.0\n",
              "\n",
              "[5 rows x 12 columns]"
            ]
          },
          "metadata": {
            "tags": []
          },
          "execution_count": 43
        }
      ]
    },
    {
      "cell_type": "markdown",
      "metadata": {
        "id": "DDKTRHI6YSAD",
        "colab_type": "text"
      },
      "source": [
        "eliminazione colonne inutili test.csv"
      ]
    },
    {
      "cell_type": "code",
      "metadata": {
        "id": "_If_mwcVYVPE",
        "colab_type": "code",
        "colab": {
          "base_uri": "https://localhost:8080/",
          "height": 232
        },
        "outputId": "a35e1411-ccaf-444f-da88-b2510356f8e8"
      },
      "source": [
        "test_df = test_df.drop(['PatientId','ScheduledDay'], axis=1)\n",
        "test_df.head()"
      ],
      "execution_count": 44,
      "outputs": [
        {
          "output_type": "execute_result",
          "data": {
            "text/html": [
              "<div>\n",
              "<style scoped>\n",
              "    .dataframe tbody tr th:only-of-type {\n",
              "        vertical-align: middle;\n",
              "    }\n",
              "\n",
              "    .dataframe tbody tr th {\n",
              "        vertical-align: top;\n",
              "    }\n",
              "\n",
              "    .dataframe thead th {\n",
              "        text-align: right;\n",
              "    }\n",
              "</style>\n",
              "<table border=\"1\" class=\"dataframe\">\n",
              "  <thead>\n",
              "    <tr style=\"text-align: right;\">\n",
              "      <th></th>\n",
              "      <th>No-show</th>\n",
              "      <th>AppointmentID</th>\n",
              "      <th>Gender</th>\n",
              "      <th>AppointmentDay</th>\n",
              "      <th>Age</th>\n",
              "      <th>Neighbourhood</th>\n",
              "      <th>Scholarship</th>\n",
              "      <th>Hipertension</th>\n",
              "      <th>Diabetes</th>\n",
              "      <th>Alcoholism</th>\n",
              "      <th>Handcap</th>\n",
              "      <th>SMS_received</th>\n",
              "    </tr>\n",
              "  </thead>\n",
              "  <tbody>\n",
              "    <tr>\n",
              "      <th>0</th>\n",
              "      <td>0.0</td>\n",
              "      <td>5658195.0</td>\n",
              "      <td>1.0</td>\n",
              "      <td>3.0</td>\n",
              "      <td>9.0</td>\n",
              "      <td>76.0</td>\n",
              "      <td>0.0</td>\n",
              "      <td>0.0</td>\n",
              "      <td>0.0</td>\n",
              "      <td>0.0</td>\n",
              "      <td>0.0</td>\n",
              "      <td>0.0</td>\n",
              "    </tr>\n",
              "    <tr>\n",
              "      <th>1</th>\n",
              "      <td>1.0</td>\n",
              "      <td>5631991.0</td>\n",
              "      <td>0.0</td>\n",
              "      <td>1.0</td>\n",
              "      <td>49.0</td>\n",
              "      <td>1.0</td>\n",
              "      <td>0.0</td>\n",
              "      <td>1.0</td>\n",
              "      <td>1.0</td>\n",
              "      <td>0.0</td>\n",
              "      <td>0.0</td>\n",
              "      <td>0.0</td>\n",
              "    </tr>\n",
              "    <tr>\n",
              "      <th>2</th>\n",
              "      <td>0.0</td>\n",
              "      <td>5672349.0</td>\n",
              "      <td>1.0</td>\n",
              "      <td>6.0</td>\n",
              "      <td>50.0</td>\n",
              "      <td>57.0</td>\n",
              "      <td>0.0</td>\n",
              "      <td>0.0</td>\n",
              "      <td>0.0</td>\n",
              "      <td>0.0</td>\n",
              "      <td>0.0</td>\n",
              "      <td>0.0</td>\n",
              "    </tr>\n",
              "    <tr>\n",
              "      <th>3</th>\n",
              "      <td>0.0</td>\n",
              "      <td>5637581.0</td>\n",
              "      <td>1.0</td>\n",
              "      <td>2.0</td>\n",
              "      <td>8.0</td>\n",
              "      <td>75.0</td>\n",
              "      <td>0.0</td>\n",
              "      <td>0.0</td>\n",
              "      <td>0.0</td>\n",
              "      <td>0.0</td>\n",
              "      <td>0.0</td>\n",
              "      <td>1.0</td>\n",
              "    </tr>\n",
              "    <tr>\n",
              "      <th>4</th>\n",
              "      <td>1.0</td>\n",
              "      <td>5628498.0</td>\n",
              "      <td>0.0</td>\n",
              "      <td>8.0</td>\n",
              "      <td>14.0</td>\n",
              "      <td>9.0</td>\n",
              "      <td>0.0</td>\n",
              "      <td>0.0</td>\n",
              "      <td>0.0</td>\n",
              "      <td>0.0</td>\n",
              "      <td>0.0</td>\n",
              "      <td>0.0</td>\n",
              "    </tr>\n",
              "  </tbody>\n",
              "</table>\n",
              "</div>"
            ],
            "text/plain": [
              "   No-show  AppointmentID  Gender  ...  Alcoholism  Handcap  SMS_received\n",
              "0      0.0      5658195.0     1.0  ...         0.0      0.0           0.0\n",
              "1      1.0      5631991.0     0.0  ...         0.0      0.0           0.0\n",
              "2      0.0      5672349.0     1.0  ...         0.0      0.0           0.0\n",
              "3      0.0      5637581.0     1.0  ...         0.0      0.0           1.0\n",
              "4      1.0      5628498.0     0.0  ...         0.0      0.0           0.0\n",
              "\n",
              "[5 rows x 12 columns]"
            ]
          },
          "metadata": {
            "tags": []
          },
          "execution_count": 44
        }
      ]
    },
    {
      "cell_type": "markdown",
      "metadata": {
        "id": "XFdE3WujabUG",
        "colab_type": "text"
      },
      "source": [
        "preparazione modello "
      ]
    },
    {
      "cell_type": "code",
      "metadata": {
        "id": "zTQfBYd_agP9",
        "colab_type": "code",
        "colab": {
          "base_uri": "https://localhost:8080/",
          "height": 151
        },
        "outputId": "fd944cdb-7683-4bca-ada7-a4f8388b4f62"
      },
      "source": [
        "features =['AppointmentID','Gender','AppointmentDay',\t'Age','Neighbourhood','Scholarship','Hipertension','Diabetes','Alcoholism','Handcap','SMS_received']\n",
        "X = train_df[features]\n",
        "Y = train_df['No-show']\n",
        "X_test = test_df[features]\n",
        "Y_test =test_df['No-show']\n",
        "\n",
        "# Specify Model : viene utilizzato RandomForestCLaasifier\n",
        "#La foresta casuale, come suggerisce il nome, \n",
        "#è costituita da un gran numero di singoli alberi decisionali che operano come un insieme(differentemente per il DecisionTreeClassifier che opera su un albero di decisione).\n",
        "#Ogni singolo albero nella foresta casuale genera una previsione di classe basandosi sui suoi attributi ed esprime un voto per quella classe\n",
        "# e la classe con il maggior numero di voti diventa la previsione del nostro modello\n",
        "#Mentre alcuni alberi potrebbero essere sbagliati, molti altri alberi avranno ragione, quindi come gruppo gli alberi sono in grado di muoversi nella direzione corretta. \n",
        "#Le previsioni (e quindi gli errori) fatte dai singoli alberi devono avere basse correlazioni tra loro.\n",
        "\n",
        "model = RandomForestClassifier(random_state=1)\n",
        "model.fit(X,Y)\n",
        "\n",
        "\n"
      ],
      "execution_count": 45,
      "outputs": [
        {
          "output_type": "execute_result",
          "data": {
            "text/plain": [
              "RandomForestClassifier(bootstrap=True, ccp_alpha=0.0, class_weight=None,\n",
              "                       criterion='gini', max_depth=None, max_features='auto',\n",
              "                       max_leaf_nodes=None, max_samples=None,\n",
              "                       min_impurity_decrease=0.0, min_impurity_split=None,\n",
              "                       min_samples_leaf=1, min_samples_split=2,\n",
              "                       min_weight_fraction_leaf=0.0, n_estimators=100,\n",
              "                       n_jobs=None, oob_score=False, random_state=1, verbose=0,\n",
              "                       warm_start=False)"
            ]
          },
          "metadata": {
            "tags": []
          },
          "execution_count": 45
        }
      ]
    },
    {
      "cell_type": "markdown",
      "metadata": {
        "id": "hyCWjdaWbPKL",
        "colab_type": "text"
      },
      "source": [
        "addestramento"
      ]
    },
    {
      "cell_type": "code",
      "metadata": {
        "id": "OLaYUZ0SbQ6I",
        "colab_type": "code",
        "colab": {
          "base_uri": "https://localhost:8080/",
          "height": 34
        },
        "outputId": "621e235c-ed82-46ba-dc8e-21b80d3113c5"
      },
      "source": [
        "train_predictions = model.predict(X)\n",
        "train_acc = metrics.accuracy_score(Y,train_predictions)\n",
        "print('Accuracy train: %s'  % train_acc)"
      ],
      "execution_count": 46,
      "outputs": [
        {
          "output_type": "stream",
          "text": [
            "Accuracy train: 0.9999717258538792\n"
          ],
          "name": "stdout"
        }
      ]
    },
    {
      "cell_type": "markdown",
      "metadata": {
        "id": "gLOaxhjUbRoE",
        "colab_type": "text"
      },
      "source": [
        "test"
      ]
    },
    {
      "cell_type": "code",
      "metadata": {
        "id": "0XNkT-UBbTBu",
        "colab_type": "code",
        "colab": {
          "base_uri": "https://localhost:8080/",
          "height": 34
        },
        "outputId": "11f6b2d3-4843-42f9-de81-5586717e1971"
      },
      "source": [
        "test_predictions = model.predict(X_test)\n",
        "test_acc=metrics.accuracy_score(Y_test,test_predictions)\n",
        "print('Accuracy test: %s'  % test_acc)\n",
        "\n"
      ],
      "execution_count": 47,
      "outputs": [
        {
          "output_type": "stream",
          "text": [
            "Accuracy test: 0.7907831495617755\n"
          ],
          "name": "stdout"
        }
      ]
    },
    {
      "cell_type": "code",
      "metadata": {
        "id": "XrvmaUkaaY3_",
        "colab_type": "code",
        "colab": {}
      },
      "source": [
        "#print(classification_report(Y_test, test_predictions))"
      ],
      "execution_count": 48,
      "outputs": []
    }
  ]
}